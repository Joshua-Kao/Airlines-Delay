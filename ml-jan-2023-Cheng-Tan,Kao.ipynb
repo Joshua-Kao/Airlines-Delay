{
 "cells": [
  {
   "cell_type": "markdown",
   "id": "7d6281ee",
   "metadata": {},
   "source": [
    "# Machine Learning final project    \n",
    "## Author : WeiChou, Wen & ChengTan, Kao"
   ]
  },
  {
   "cell_type": "code",
   "execution_count": 38,
   "id": "062a87d0",
   "metadata": {},
   "outputs": [],
   "source": [
    "import pandas as pd\n",
    "import matplotlib.pyplot as plt\n",
    "import seaborn as sns\n",
    "import warnings\n",
    "warnings.filterwarnings('ignore')"
   ]
  },
  {
   "cell_type": "code",
   "execution_count": 39,
   "id": "4af7b956",
   "metadata": {},
   "outputs": [],
   "source": [
    "# The dataset is 'Airline Delay' from ‘Kaggle’.\n",
    "# Dataset Like : https://www.kaggle.com/datasets/ulrikthygepedersen/airlines-delay"
   ]
  },
  {
   "cell_type": "code",
   "execution_count": null,
   "id": "33c48289",
   "metadata": {},
   "outputs": [],
   "source": [
    "# Since this dataset too huge for running model, but we didn’t fine the better way to make it quicker, I used \n",
    "# Sample function to randomly chose 10 thousands data for our project. "
   ]
  },
  {
   "cell_type": "code",
   "execution_count": 40,
   "id": "7f3ffa2b",
   "metadata": {},
   "outputs": [],
   "source": [
    "\n",
    "df= pd.read_csv('airlines_delay.csv')"
   ]
  },
  {
   "cell_type": "code",
   "execution_count": 41,
   "id": "648705b8",
   "metadata": {},
   "outputs": [],
   "source": [
    "\n",
    "df = df.sample(n=10000, random_state=0)"
   ]
  },
  {
   "cell_type": "code",
   "execution_count": 42,
   "id": "db9d1888",
   "metadata": {},
   "outputs": [
    {
     "data": {
      "text/html": [
       "<div>\n",
       "<style scoped>\n",
       "    .dataframe tbody tr th:only-of-type {\n",
       "        vertical-align: middle;\n",
       "    }\n",
       "\n",
       "    .dataframe tbody tr th {\n",
       "        vertical-align: top;\n",
       "    }\n",
       "\n",
       "    .dataframe thead th {\n",
       "        text-align: right;\n",
       "    }\n",
       "</style>\n",
       "<table border=\"1\" class=\"dataframe\">\n",
       "  <thead>\n",
       "    <tr style=\"text-align: right;\">\n",
       "      <th></th>\n",
       "      <th>Flight</th>\n",
       "      <th>Time</th>\n",
       "      <th>Length</th>\n",
       "      <th>Airline</th>\n",
       "      <th>AirportFrom</th>\n",
       "      <th>AirportTo</th>\n",
       "      <th>DayOfWeek</th>\n",
       "      <th>Class</th>\n",
       "    </tr>\n",
       "  </thead>\n",
       "  <tbody>\n",
       "    <tr>\n",
       "      <th>485079</th>\n",
       "      <td>2972.0</td>\n",
       "      <td>875.0</td>\n",
       "      <td>94.0</td>\n",
       "      <td>YV</td>\n",
       "      <td>LAS</td>\n",
       "      <td>SFO</td>\n",
       "      <td>5</td>\n",
       "      <td>1</td>\n",
       "    </tr>\n",
       "    <tr>\n",
       "      <th>392446</th>\n",
       "      <td>6260.0</td>\n",
       "      <td>1145.0</td>\n",
       "      <td>33.0</td>\n",
       "      <td>OO</td>\n",
       "      <td>DEN</td>\n",
       "      <td>COS</td>\n",
       "      <td>1</td>\n",
       "      <td>0</td>\n",
       "    </tr>\n",
       "    <tr>\n",
       "      <th>483622</th>\n",
       "      <td>687.0</td>\n",
       "      <td>961.0</td>\n",
       "      <td>165.0</td>\n",
       "      <td>UA</td>\n",
       "      <td>LGA</td>\n",
       "      <td>ORD</td>\n",
       "      <td>4</td>\n",
       "      <td>1</td>\n",
       "    </tr>\n",
       "    <tr>\n",
       "      <th>191823</th>\n",
       "      <td>827.0</td>\n",
       "      <td>655.0</td>\n",
       "      <td>140.0</td>\n",
       "      <td>WN</td>\n",
       "      <td>BNA</td>\n",
       "      <td>AUS</td>\n",
       "      <td>4</td>\n",
       "      <td>1</td>\n",
       "    </tr>\n",
       "    <tr>\n",
       "      <th>13421</th>\n",
       "      <td>2092.0</td>\n",
       "      <td>1082.0</td>\n",
       "      <td>157.0</td>\n",
       "      <td>DL</td>\n",
       "      <td>TPA</td>\n",
       "      <td>DTW</td>\n",
       "      <td>4</td>\n",
       "      <td>0</td>\n",
       "    </tr>\n",
       "  </tbody>\n",
       "</table>\n",
       "</div>"
      ],
      "text/plain": [
       "        Flight    Time  Length Airline AirportFrom AirportTo  DayOfWeek  Class\n",
       "485079  2972.0   875.0    94.0      YV         LAS       SFO          5      1\n",
       "392446  6260.0  1145.0    33.0      OO         DEN       COS          1      0\n",
       "483622   687.0   961.0   165.0      UA         LGA       ORD          4      1\n",
       "191823   827.0   655.0   140.0      WN         BNA       AUS          4      1\n",
       "13421   2092.0  1082.0   157.0      DL         TPA       DTW          4      0"
      ]
     },
     "execution_count": 42,
     "metadata": {},
     "output_type": "execute_result"
    }
   ],
   "source": [
    "df.head()"
   ]
  },
  {
   "cell_type": "code",
   "execution_count": 5,
   "id": "c23031a4",
   "metadata": {},
   "outputs": [
    {
     "name": "stdout",
     "output_type": "stream",
     "text": [
      "<class 'pandas.core.frame.DataFrame'>\n",
      "Int64Index: 10000 entries, 485079 to 475097\n",
      "Data columns (total 8 columns):\n",
      " #   Column       Non-Null Count  Dtype  \n",
      "---  ------       --------------  -----  \n",
      " 0   Flight       10000 non-null  float64\n",
      " 1   Time         10000 non-null  float64\n",
      " 2   Length       10000 non-null  float64\n",
      " 3   Airline      10000 non-null  object \n",
      " 4   AirportFrom  10000 non-null  object \n",
      " 5   AirportTo    10000 non-null  object \n",
      " 6   DayOfWeek    10000 non-null  int64  \n",
      " 7   Class        10000 non-null  int64  \n",
      "dtypes: float64(3), int64(2), object(3)\n",
      "memory usage: 703.1+ KB\n"
     ]
    },
    {
     "data": {
      "text/html": [
       "<div>\n",
       "<style scoped>\n",
       "    .dataframe tbody tr th:only-of-type {\n",
       "        vertical-align: middle;\n",
       "    }\n",
       "\n",
       "    .dataframe tbody tr th {\n",
       "        vertical-align: top;\n",
       "    }\n",
       "\n",
       "    .dataframe thead th {\n",
       "        text-align: right;\n",
       "    }\n",
       "</style>\n",
       "<table border=\"1\" class=\"dataframe\">\n",
       "  <thead>\n",
       "    <tr style=\"text-align: right;\">\n",
       "      <th></th>\n",
       "      <th>Flight</th>\n",
       "      <th>Time</th>\n",
       "      <th>Length</th>\n",
       "      <th>DayOfWeek</th>\n",
       "      <th>Class</th>\n",
       "    </tr>\n",
       "  </thead>\n",
       "  <tbody>\n",
       "    <tr>\n",
       "      <th>count</th>\n",
       "      <td>10000.000000</td>\n",
       "      <td>10000.000000</td>\n",
       "      <td>10000.000000</td>\n",
       "      <td>10000.000000</td>\n",
       "      <td>10000.000000</td>\n",
       "    </tr>\n",
       "    <tr>\n",
       "      <th>mean</th>\n",
       "      <td>2449.240700</td>\n",
       "      <td>802.248500</td>\n",
       "      <td>131.717200</td>\n",
       "      <td>3.936700</td>\n",
       "      <td>0.449000</td>\n",
       "    </tr>\n",
       "    <tr>\n",
       "      <th>std</th>\n",
       "      <td>2069.194691</td>\n",
       "      <td>275.443571</td>\n",
       "      <td>69.703596</td>\n",
       "      <td>1.915114</td>\n",
       "      <td>0.497417</td>\n",
       "    </tr>\n",
       "    <tr>\n",
       "      <th>min</th>\n",
       "      <td>1.000000</td>\n",
       "      <td>15.000000</td>\n",
       "      <td>25.000000</td>\n",
       "      <td>1.000000</td>\n",
       "      <td>0.000000</td>\n",
       "    </tr>\n",
       "    <tr>\n",
       "      <th>25%</th>\n",
       "      <td>728.000000</td>\n",
       "      <td>570.000000</td>\n",
       "      <td>81.000000</td>\n",
       "      <td>2.000000</td>\n",
       "      <td>0.000000</td>\n",
       "    </tr>\n",
       "    <tr>\n",
       "      <th>50%</th>\n",
       "      <td>1825.000000</td>\n",
       "      <td>800.000000</td>\n",
       "      <td>115.000000</td>\n",
       "      <td>4.000000</td>\n",
       "      <td>0.000000</td>\n",
       "    </tr>\n",
       "    <tr>\n",
       "      <th>75%</th>\n",
       "      <td>3798.000000</td>\n",
       "      <td>1030.000000</td>\n",
       "      <td>161.000000</td>\n",
       "      <td>5.000000</td>\n",
       "      <td>1.000000</td>\n",
       "    </tr>\n",
       "    <tr>\n",
       "      <th>max</th>\n",
       "      <td>7812.000000</td>\n",
       "      <td>1439.000000</td>\n",
       "      <td>620.000000</td>\n",
       "      <td>7.000000</td>\n",
       "      <td>1.000000</td>\n",
       "    </tr>\n",
       "  </tbody>\n",
       "</table>\n",
       "</div>"
      ],
      "text/plain": [
       "             Flight          Time        Length     DayOfWeek         Class\n",
       "count  10000.000000  10000.000000  10000.000000  10000.000000  10000.000000\n",
       "mean    2449.240700    802.248500    131.717200      3.936700      0.449000\n",
       "std     2069.194691    275.443571     69.703596      1.915114      0.497417\n",
       "min        1.000000     15.000000     25.000000      1.000000      0.000000\n",
       "25%      728.000000    570.000000     81.000000      2.000000      0.000000\n",
       "50%     1825.000000    800.000000    115.000000      4.000000      0.000000\n",
       "75%     3798.000000   1030.000000    161.000000      5.000000      1.000000\n",
       "max     7812.000000   1439.000000    620.000000      7.000000      1.000000"
      ]
     },
     "execution_count": 5,
     "metadata": {},
     "output_type": "execute_result"
    }
   ],
   "source": [
    "df.info(); df.describe()"
   ]
  },
  {
   "cell_type": "code",
   "execution_count": 6,
   "id": "d74fa903",
   "metadata": {},
   "outputs": [
    {
     "data": {
      "text/plain": [
       "Flight         4464\n",
       "Time            929\n",
       "Length          385\n",
       "Airline          18\n",
       "AirportFrom     267\n",
       "AirportTo       267\n",
       "DayOfWeek         7\n",
       "Class             2\n",
       "dtype: int64"
      ]
     },
     "execution_count": 6,
     "metadata": {},
     "output_type": "execute_result"
    }
   ],
   "source": [
    "df.nunique()"
   ]
  },
  {
   "cell_type": "code",
   "execution_count": 7,
   "id": "4f6b1bd3",
   "metadata": {},
   "outputs": [
    {
     "data": {
      "text/plain": [
       "Flight         0\n",
       "Time           0\n",
       "Length         0\n",
       "Airline        0\n",
       "AirportFrom    0\n",
       "AirportTo      0\n",
       "DayOfWeek      0\n",
       "Class          0\n",
       "dtype: int64"
      ]
     },
     "execution_count": 7,
     "metadata": {},
     "output_type": "execute_result"
    }
   ],
   "source": [
    "df.isna().sum()"
   ]
  },
  {
   "cell_type": "code",
   "execution_count": 8,
   "id": "11745961",
   "metadata": {},
   "outputs": [
    {
     "data": {
      "text/html": [
       "<div>\n",
       "<style scoped>\n",
       "    .dataframe tbody tr th:only-of-type {\n",
       "        vertical-align: middle;\n",
       "    }\n",
       "\n",
       "    .dataframe tbody tr th {\n",
       "        vertical-align: top;\n",
       "    }\n",
       "\n",
       "    .dataframe thead th {\n",
       "        text-align: right;\n",
       "    }\n",
       "</style>\n",
       "<table border=\"1\" class=\"dataframe\">\n",
       "  <thead>\n",
       "    <tr style=\"text-align: right;\">\n",
       "      <th></th>\n",
       "      <th>Flight</th>\n",
       "      <th>Time</th>\n",
       "      <th>Length</th>\n",
       "      <th>DayOfWeek</th>\n",
       "      <th>Class</th>\n",
       "    </tr>\n",
       "  </thead>\n",
       "  <tbody>\n",
       "    <tr>\n",
       "      <th>Flight</th>\n",
       "      <td>1.000000</td>\n",
       "      <td>-0.007600</td>\n",
       "      <td>-0.344790</td>\n",
       "      <td>-0.013487</td>\n",
       "      <td>-0.053629</td>\n",
       "    </tr>\n",
       "    <tr>\n",
       "      <th>Time</th>\n",
       "      <td>-0.007600</td>\n",
       "      <td>1.000000</td>\n",
       "      <td>-0.014864</td>\n",
       "      <td>0.010620</td>\n",
       "      <td>0.151360</td>\n",
       "    </tr>\n",
       "    <tr>\n",
       "      <th>Length</th>\n",
       "      <td>-0.344790</td>\n",
       "      <td>-0.014864</td>\n",
       "      <td>1.000000</td>\n",
       "      <td>0.007296</td>\n",
       "      <td>0.047602</td>\n",
       "    </tr>\n",
       "    <tr>\n",
       "      <th>DayOfWeek</th>\n",
       "      <td>-0.013487</td>\n",
       "      <td>0.010620</td>\n",
       "      <td>0.007296</td>\n",
       "      <td>1.000000</td>\n",
       "      <td>-0.020659</td>\n",
       "    </tr>\n",
       "    <tr>\n",
       "      <th>Class</th>\n",
       "      <td>-0.053629</td>\n",
       "      <td>0.151360</td>\n",
       "      <td>0.047602</td>\n",
       "      <td>-0.020659</td>\n",
       "      <td>1.000000</td>\n",
       "    </tr>\n",
       "  </tbody>\n",
       "</table>\n",
       "</div>"
      ],
      "text/plain": [
       "             Flight      Time    Length  DayOfWeek     Class\n",
       "Flight     1.000000 -0.007600 -0.344790  -0.013487 -0.053629\n",
       "Time      -0.007600  1.000000 -0.014864   0.010620  0.151360\n",
       "Length    -0.344790 -0.014864  1.000000   0.007296  0.047602\n",
       "DayOfWeek -0.013487  0.010620  0.007296   1.000000 -0.020659\n",
       "Class     -0.053629  0.151360  0.047602  -0.020659  1.000000"
      ]
     },
     "execution_count": 8,
     "metadata": {},
     "output_type": "execute_result"
    }
   ],
   "source": [
    "df.corr()"
   ]
  },
  {
   "cell_type": "code",
   "execution_count": 9,
   "id": "9456842d",
   "metadata": {},
   "outputs": [
    {
     "data": {
      "text/plain": [
       "(10000, 8)"
      ]
     },
     "execution_count": 9,
     "metadata": {},
     "output_type": "execute_result"
    }
   ],
   "source": [
    "df.shape"
   ]
  },
  {
   "cell_type": "code",
   "execution_count": 10,
   "id": "7fccf613",
   "metadata": {},
   "outputs": [
    {
     "data": {
      "text/plain": [
       "<AxesSubplot:xlabel='DayOfWeek', ylabel='count'>"
      ]
     },
     "execution_count": 10,
     "metadata": {},
     "output_type": "execute_result"
    },
    {
     "data": {
      "image/png": "[encoded data removed]",
      "text/plain": [
       "<Figure size 640x480 with 1 Axes>"
      ]
     },
     "metadata": {},
     "output_type": "display_data"
    }
   ],
   "source": [
    "sns.countplot(x='DayOfWeek', hue='Class', data=df  )"
   ]
  },
  {
   "cell_type": "code",
   "execution_count": 11,
   "id": "cd650b0c",
   "metadata": {},
   "outputs": [
    {
     "data": {
      "text/plain": [
       "<AxesSubplot:xlabel='Airline', ylabel='count'>"
      ]
     },
     "execution_count": 11,
     "metadata": {},
     "output_type": "execute_result"
    },
    {
     "data": {
      "image/png": "[encoded data removed]",
      "text/plain": [
       "<Figure size 640x480 with 1 Axes>"
      ]
     },
     "metadata": {},
     "output_type": "display_data"
    }
   ],
   "source": [
    "sort=df['Airline'].value_counts().sort_values(ascending=False)\n",
    "sns.countplot(x='Airline', data=df ,order=sort.index )\n"
   ]
  },
  {
   "cell_type": "markdown",
   "id": "138525fe",
   "metadata": {},
   "source": [
    "## Setting  features"
   ]
  },
  {
   "cell_type": "code",
   "execution_count": 12,
   "id": "c6515200",
   "metadata": {},
   "outputs": [],
   "source": [
    "from sklearn.preprocessing import LabelEncoder\n",
    "\n",
    "\n",
    "df['AirportFrom']=LabelEncoder().fit_transform(df['AirportFrom'])\n",
    "\n",
    "df['AirportTo']=LabelEncoder().fit_transform(df['AirportTo'])"
   ]
  },
  {
   "cell_type": "code",
   "execution_count": 13,
   "id": "bb5223c8",
   "metadata": {},
   "outputs": [],
   "source": [
    "DayOfWeek=pd.DataFrame()\n",
    "DayOfWeek=pd.get_dummies(df.DayOfWeek, prefix='DayOfWeek')"
   ]
  },
  {
   "cell_type": "code",
   "execution_count": 14,
   "id": "d5fd0952",
   "metadata": {},
   "outputs": [],
   "source": [
    "Airline=pd.DataFrame()\n",
    "Airline=pd.get_dummies(df.Airline ,prefix='Airline')"
   ]
  },
  {
   "cell_type": "markdown",
   "id": "a524aeb5",
   "metadata": {},
   "source": [
    "## Preparing data"
   ]
  },
  {
   "cell_type": "code",
   "execution_count": 15,
   "id": "ccab9f88",
   "metadata": {},
   "outputs": [],
   "source": [
    "df=df.drop(columns=['DayOfWeek','Airline'])"
   ]
  },
  {
   "cell_type": "code",
   "execution_count": 16,
   "id": "4aa14386",
   "metadata": {},
   "outputs": [
    {
     "data": {
      "text/html": [
       "<div>\n",
       "<style scoped>\n",
       "    .dataframe tbody tr th:only-of-type {\n",
       "        vertical-align: middle;\n",
       "    }\n",
       "\n",
       "    .dataframe tbody tr th {\n",
       "        vertical-align: top;\n",
       "    }\n",
       "\n",
       "    .dataframe thead th {\n",
       "        text-align: right;\n",
       "    }\n",
       "</style>\n",
       "<table border=\"1\" class=\"dataframe\">\n",
       "  <thead>\n",
       "    <tr style=\"text-align: right;\">\n",
       "      <th></th>\n",
       "      <th>Flight</th>\n",
       "      <th>Time</th>\n",
       "      <th>Length</th>\n",
       "      <th>AirportFrom</th>\n",
       "      <th>AirportTo</th>\n",
       "      <th>Airline_9E</th>\n",
       "      <th>Airline_AA</th>\n",
       "      <th>Airline_AS</th>\n",
       "      <th>Airline_B6</th>\n",
       "      <th>Airline_CO</th>\n",
       "      <th>...</th>\n",
       "      <th>Airline_XE</th>\n",
       "      <th>Airline_YV</th>\n",
       "      <th>DayOfWeek_1</th>\n",
       "      <th>DayOfWeek_2</th>\n",
       "      <th>DayOfWeek_3</th>\n",
       "      <th>DayOfWeek_4</th>\n",
       "      <th>DayOfWeek_5</th>\n",
       "      <th>DayOfWeek_6</th>\n",
       "      <th>DayOfWeek_7</th>\n",
       "      <th>Class</th>\n",
       "    </tr>\n",
       "  </thead>\n",
       "  <tbody>\n",
       "    <tr>\n",
       "      <th>485079</th>\n",
       "      <td>2972.0</td>\n",
       "      <td>875.0</td>\n",
       "      <td>94.0</td>\n",
       "      <td>143</td>\n",
       "      <td>235</td>\n",
       "      <td>0</td>\n",
       "      <td>0</td>\n",
       "      <td>0</td>\n",
       "      <td>0</td>\n",
       "      <td>0</td>\n",
       "      <td>...</td>\n",
       "      <td>0</td>\n",
       "      <td>1</td>\n",
       "      <td>0</td>\n",
       "      <td>0</td>\n",
       "      <td>0</td>\n",
       "      <td>0</td>\n",
       "      <td>1</td>\n",
       "      <td>0</td>\n",
       "      <td>0</td>\n",
       "      <td>1</td>\n",
       "    </tr>\n",
       "    <tr>\n",
       "      <th>392446</th>\n",
       "      <td>6260.0</td>\n",
       "      <td>1145.0</td>\n",
       "      <td>33.0</td>\n",
       "      <td>71</td>\n",
       "      <td>57</td>\n",
       "      <td>0</td>\n",
       "      <td>0</td>\n",
       "      <td>0</td>\n",
       "      <td>0</td>\n",
       "      <td>0</td>\n",
       "      <td>...</td>\n",
       "      <td>0</td>\n",
       "      <td>0</td>\n",
       "      <td>1</td>\n",
       "      <td>0</td>\n",
       "      <td>0</td>\n",
       "      <td>0</td>\n",
       "      <td>0</td>\n",
       "      <td>0</td>\n",
       "      <td>0</td>\n",
       "      <td>0</td>\n",
       "    </tr>\n",
       "    <tr>\n",
       "      <th>483622</th>\n",
       "      <td>687.0</td>\n",
       "      <td>961.0</td>\n",
       "      <td>165.0</td>\n",
       "      <td>149</td>\n",
       "      <td>192</td>\n",
       "      <td>0</td>\n",
       "      <td>0</td>\n",
       "      <td>0</td>\n",
       "      <td>0</td>\n",
       "      <td>0</td>\n",
       "      <td>...</td>\n",
       "      <td>0</td>\n",
       "      <td>0</td>\n",
       "      <td>0</td>\n",
       "      <td>0</td>\n",
       "      <td>0</td>\n",
       "      <td>1</td>\n",
       "      <td>0</td>\n",
       "      <td>0</td>\n",
       "      <td>0</td>\n",
       "      <td>1</td>\n",
       "    </tr>\n",
       "    <tr>\n",
       "      <th>191823</th>\n",
       "      <td>827.0</td>\n",
       "      <td>655.0</td>\n",
       "      <td>140.0</td>\n",
       "      <td>27</td>\n",
       "      <td>14</td>\n",
       "      <td>0</td>\n",
       "      <td>0</td>\n",
       "      <td>0</td>\n",
       "      <td>0</td>\n",
       "      <td>0</td>\n",
       "      <td>...</td>\n",
       "      <td>0</td>\n",
       "      <td>0</td>\n",
       "      <td>0</td>\n",
       "      <td>0</td>\n",
       "      <td>0</td>\n",
       "      <td>1</td>\n",
       "      <td>0</td>\n",
       "      <td>0</td>\n",
       "      <td>0</td>\n",
       "      <td>1</td>\n",
       "    </tr>\n",
       "    <tr>\n",
       "      <th>13421</th>\n",
       "      <td>2092.0</td>\n",
       "      <td>1082.0</td>\n",
       "      <td>157.0</td>\n",
       "      <td>254</td>\n",
       "      <td>76</td>\n",
       "      <td>0</td>\n",
       "      <td>0</td>\n",
       "      <td>0</td>\n",
       "      <td>0</td>\n",
       "      <td>0</td>\n",
       "      <td>...</td>\n",
       "      <td>0</td>\n",
       "      <td>0</td>\n",
       "      <td>0</td>\n",
       "      <td>0</td>\n",
       "      <td>0</td>\n",
       "      <td>1</td>\n",
       "      <td>0</td>\n",
       "      <td>0</td>\n",
       "      <td>0</td>\n",
       "      <td>0</td>\n",
       "    </tr>\n",
       "  </tbody>\n",
       "</table>\n",
       "<p>5 rows × 31 columns</p>\n",
       "</div>"
      ],
      "text/plain": [
       "        Flight    Time  Length  AirportFrom  AirportTo  Airline_9E  \\\n",
       "485079  2972.0   875.0    94.0          143        235           0   \n",
       "392446  6260.0  1145.0    33.0           71         57           0   \n",
       "483622   687.0   961.0   165.0          149        192           0   \n",
       "191823   827.0   655.0   140.0           27         14           0   \n",
       "13421   2092.0  1082.0   157.0          254         76           0   \n",
       "\n",
       "        Airline_AA  Airline_AS  Airline_B6  Airline_CO  ...  Airline_XE  \\\n",
       "485079           0           0           0           0  ...           0   \n",
       "392446           0           0           0           0  ...           0   \n",
       "483622           0           0           0           0  ...           0   \n",
       "191823           0           0           0           0  ...           0   \n",
       "13421            0           0           0           0  ...           0   \n",
       "\n",
       "        Airline_YV  DayOfWeek_1  DayOfWeek_2  DayOfWeek_3  DayOfWeek_4  \\\n",
       "485079           1            0            0            0            0   \n",
       "392446           0            1            0            0            0   \n",
       "483622           0            0            0            0            1   \n",
       "191823           0            0            0            0            1   \n",
       "13421            0            0            0            0            1   \n",
       "\n",
       "        DayOfWeek_5  DayOfWeek_6  DayOfWeek_7  Class  \n",
       "485079            1            0            0      1  \n",
       "392446            0            0            0      0  \n",
       "483622            0            0            0      1  \n",
       "191823            0            0            0      1  \n",
       "13421             0            0            0      0  \n",
       "\n",
       "[5 rows x 31 columns]"
      ]
     },
     "execution_count": 16,
     "metadata": {},
     "output_type": "execute_result"
    }
   ],
   "source": [
    "Class=df.pop('Class')\n",
    "df=pd.concat([df,Airline,DayOfWeek,Class] , axis=1)\n",
    "df.head()"
   ]
  },
  {
   "cell_type": "code",
   "execution_count": null,
   "id": "d3cced0d",
   "metadata": {},
   "outputs": [],
   "source": [
    "# For preprocessing our data, we import data LabelEncoder to transform the column ‘AirportFrom’, and ‘AirportTo’ \n",
    "# which are object type to be numeric. And tried get_dummies at column ’Airline’ because it has only 18 unique not\n",
    "# like the other two have 267 unique. "
   ]
  },
  {
   "cell_type": "markdown",
   "id": "df16d4df",
   "metadata": {},
   "source": [
    "## Split and Scaling data"
   ]
  },
  {
   "cell_type": "code",
   "execution_count": 17,
   "id": "7bf5d8df",
   "metadata": {},
   "outputs": [],
   "source": [
    "from sklearn.model_selection import train_test_split\n",
    "X=df.iloc[:,:-1]\n",
    "y=df.Class\n",
    "\n",
    "X_train, X_test, y_train, y_test = train_test_split(X,y,test_size=0.3, random_state=0)"
   ]
  },
  {
   "cell_type": "code",
   "execution_count": 18,
   "id": "eae98091",
   "metadata": {},
   "outputs": [],
   "source": [
    "# Feature Scaling\n",
    "from sklearn.preprocessing import StandardScaler\n",
    "sc = StandardScaler()\n",
    "X_train = sc.fit_transform(X_train)\n",
    "X_test = sc.transform(X_test)"
   ]
  },
  {
   "cell_type": "code",
   "execution_count": 19,
   "id": "660cc9d6",
   "metadata": {},
   "outputs": [],
   "source": [
    "from sklearn.metrics import f1_score, accuracy_score, confusion_matrix"
   ]
  },
  {
   "cell_type": "code",
   "execution_count": null,
   "id": "9eb0fca6",
   "metadata": {},
   "outputs": [],
   "source": [
    "# split data by 30% for testing and scaling data. \n",
    "# In the model testing, we decided to access performance by f1_score and accuracy_score. "
   ]
  },
  {
   "cell_type": "markdown",
   "id": "350aeafb",
   "metadata": {},
   "source": [
    "## Knn"
   ]
  },
  {
   "cell_type": "code",
   "execution_count": 20,
   "id": "68cee721",
   "metadata": {},
   "outputs": [
    {
     "name": "stdout",
     "output_type": "stream",
     "text": [
      "Confusion matrix:\n",
      "  [[1297  329]\n",
      " [ 810  564]]\n",
      "Accuracy: 0.6203333333333333\n",
      "f1_score:49.757388619320686%\n"
     ]
    }
   ],
   "source": [
    "from sklearn.neighbors import KNeighborsClassifier\n",
    "\n",
    "knn = KNeighborsClassifier(n_neighbors = 30, metric='manhattan', p=1)\n",
    "knn.fit(X_train, y_train)\n",
    "\n",
    "# Predicting \n",
    "y_pred = knn.predict(X_test)\n",
    "\n",
    "# Confusion Matrix\n",
    "cm = confusion_matrix(y_test, y_pred)\n",
    "\n",
    "# Accuracy score\n",
    "accuracy_knn = accuracy_score(y_test, y_pred)\n",
    "\n",
    "print(\"Confusion matrix:\\n \", cm)\n",
    "print('Accuracy:', accuracy_knn)\n",
    "\n",
    "# F1 score\n",
    "knn_f1_score=f1_score(y_test, y_pred)\n",
    "\n",
    "print('f1_score:{}%'.format(knn_f1_score*100))"
   ]
  },
  {
   "cell_type": "code",
   "execution_count": 21,
   "id": "507bf9bf",
   "metadata": {
    "scrolled": false
   },
   "outputs": [
    {
     "data": {
      "text/plain": [
       "({'n_neighbors': 30}, 0.62)"
      ]
     },
     "execution_count": 21,
     "metadata": {},
     "output_type": "execute_result"
    }
   ],
   "source": [
    "from sklearn.model_selection import GridSearchCV\n",
    "\n",
    "param_grid={'n_neighbors':[5,10,15,20,30]}\n",
    "grid_search=GridSearchCV(KNeighborsClassifier(),param_grid,cv=5)\n",
    " \n",
    "grid_search.fit(X_train,y_train)\n",
    " \n",
    "grid_search.best_params_,grid_search.best_score_"
   ]
  },
  {
   "cell_type": "code",
   "execution_count": 22,
   "id": "8c558eb9",
   "metadata": {},
   "outputs": [
    {
     "data": {
      "text/plain": [
       "{'algorithm': 'auto',\n",
       " 'leaf_size': 30,\n",
       " 'metric': 'manhattan',\n",
       " 'metric_params': None,\n",
       " 'n_jobs': None,\n",
       " 'n_neighbors': 30,\n",
       " 'p': 1,\n",
       " 'weights': 'uniform'}"
      ]
     },
     "execution_count": 22,
     "metadata": {},
     "output_type": "execute_result"
    }
   ],
   "source": [
    "knn.get_params()"
   ]
  },
  {
   "cell_type": "code",
   "execution_count": null,
   "id": "4eccc90c",
   "metadata": {},
   "outputs": [],
   "source": [
    "# Firstly, the KNN classifier. To try more, we use GridSearchCV to generate the best parameter and check what is going to be in our project. \n",
    "# KNN shows 0.6 accuracy and 49.7 at f1_score."
   ]
  },
  {
   "cell_type": "markdown",
   "id": "fbb4b9ed",
   "metadata": {},
   "source": [
    "## Logistic Regression"
   ]
  },
  {
   "cell_type": "code",
   "execution_count": 33,
   "id": "c6b2a419",
   "metadata": {},
   "outputs": [
    {
     "name": "stdout",
     "output_type": "stream",
     "text": [
      "Confusion matrix:\n",
      "  [[1283  343]\n",
      " [ 768  606]]\n",
      "Accuracy: 0.6296666666666667\n",
      "f1_score:52.17391304347825%\n"
     ]
    }
   ],
   "source": [
    "from sklearn.linear_model import LogisticRegression\n",
    "\n",
    "lr =LogisticRegression(C=1)\n",
    "lr.fit(X_train, y_train) \n",
    "\n",
    "# Predicting \n",
    "y_pred = lr.predict(X_test)\n",
    "\n",
    "# Confusion Matrix\n",
    "cm = confusion_matrix(y_test, y_pred)\n",
    "\n",
    "# Accuracy score\n",
    "accuracy_lg = accuracy_score(y_test, y_pred)\n",
    "\n",
    "print(\"Confusion matrix:\\n \", cm)\n",
    "print('Accuracy:', accuracy_lg)\n",
    "\n",
    "# F1 score\n",
    "lg_f1_score = f1_score(y_test, y_pred)\n",
    "\n",
    "print('f1_score:{}%'.format(lg_f1_score*100))"
   ]
  },
  {
   "cell_type": "code",
   "execution_count": null,
   "id": "b2a2e732",
   "metadata": {},
   "outputs": [],
   "source": [
    "# Logistic Regression shows 0.63 accuracy and 52.17 f1_score."
   ]
  },
  {
   "cell_type": "markdown",
   "id": "f2a70d05",
   "metadata": {},
   "source": [
    "### Random Forest"
   ]
  },
  {
   "cell_type": "code",
   "execution_count": 23,
   "id": "929dc266",
   "metadata": {},
   "outputs": [
    {
     "name": "stdout",
     "output_type": "stream",
     "text": [
      "Confusion matrix:\n",
      "  [[1320  306]\n",
      " [ 792  582]]\n",
      "Accuracy_score: 0.634\n",
      "f1_score:51.45888594164456%\n"
     ]
    }
   ],
   "source": [
    "from sklearn.ensemble import RandomForestClassifier\n",
    "\n",
    "rf = RandomForestClassifier(n_estimators=100, max_depth=15, criterion='gini', random_state = 0)\n",
    "rf.fit(X_train, y_train) \n",
    "\n",
    "# Predicting \n",
    "y_pred = rf.predict(X_test)\n",
    "\n",
    "# Confusion Matrix\n",
    "cm = confusion_matrix(y_test, y_pred)\n",
    "\n",
    "# Accuracy score\n",
    "accuracy_rf = accuracy_score(y_test, y_pred)\n",
    "\n",
    "print(\"Confusion matrix:\\n \", cm)\n",
    "print('Accuracy_score:',accuracy_rf)\n",
    "\n",
    "# F1 score\n",
    "rf_f1_score=f1_score(y_test, y_pred)\n",
    "\n",
    "print('f1_score:{}%'.format(rf_f1_score*100))"
   ]
  },
  {
   "cell_type": "code",
   "execution_count": 24,
   "id": "7e1d09b9",
   "metadata": {},
   "outputs": [
    {
     "data": {
      "text/plain": [
       "({'max_depth': 15, 'n_estimators': 50}, 0.6412857142857142)"
      ]
     },
     "execution_count": 24,
     "metadata": {},
     "output_type": "execute_result"
    }
   ],
   "source": [
    "from sklearn.model_selection import GridSearchCV\n",
    "\n",
    "param_grid={'n_estimators':[30,50,80,120,200,300],'max_depth':[5,10,15,20,25,30,50]}\n",
    "grid_search=GridSearchCV(RandomForestClassifier(),param_grid,cv=5, n_jobs=2)\n",
    " \n",
    "grid_search.fit(X_train,y_train)\n",
    " \n",
    "grid_search.best_params_,grid_search.best_score_\n"
   ]
  },
  {
   "cell_type": "code",
   "execution_count": 25,
   "id": "bff53f1c",
   "metadata": {},
   "outputs": [
    {
     "data": {
      "text/plain": [
       "{'bootstrap': True,\n",
       " 'ccp_alpha': 0.0,\n",
       " 'class_weight': None,\n",
       " 'criterion': 'gini',\n",
       " 'max_depth': 15,\n",
       " 'max_features': 'auto',\n",
       " 'max_leaf_nodes': None,\n",
       " 'max_samples': None,\n",
       " 'min_impurity_decrease': 0.0,\n",
       " 'min_samples_leaf': 1,\n",
       " 'min_samples_split': 2,\n",
       " 'min_weight_fraction_leaf': 0.0,\n",
       " 'n_estimators': 100,\n",
       " 'n_jobs': None,\n",
       " 'oob_score': False,\n",
       " 'random_state': 0,\n",
       " 'verbose': 0,\n",
       " 'warm_start': False}"
      ]
     },
     "execution_count": 25,
     "metadata": {},
     "output_type": "execute_result"
    }
   ],
   "source": [
    "rf.get_params()"
   ]
  },
  {
   "cell_type": "code",
   "execution_count": null,
   "id": "e8d36c4a",
   "metadata": {},
   "outputs": [],
   "source": [
    "# Random Forest model for classification, this time we got the lower score if use the recommended parameters, \n",
    "# so we did not put result of CV into our model. The Random Forest shows 0.634 accuracy and 51.46 f1_score."
   ]
  },
  {
   "cell_type": "markdown",
   "id": "29d5f72f",
   "metadata": {},
   "source": [
    "## Naive-bayes"
   ]
  },
  {
   "cell_type": "code",
   "execution_count": 26,
   "id": "6b1b19a4",
   "metadata": {},
   "outputs": [
    {
     "name": "stdout",
     "output_type": "stream",
     "text": [
      "Confusion matrix:\n",
      "  [[865 761]\n",
      " [466 908]]\n",
      "Accuracy: 0.591\n",
      "f1_score:59.677949392047324%\n"
     ]
    }
   ],
   "source": [
    "from sklearn.naive_bayes import GaussianNB\n",
    "\n",
    "NB = GaussianNB()\n",
    "NB.fit(X_train, y_train)\n",
    "\n",
    "# Predicting \n",
    "y_pred = NB.predict(X_test)\n",
    "\n",
    "# Confusion Matrix\n",
    "cm = confusion_matrix(y_test, y_pred)\n",
    "\n",
    "# Accuracy score\n",
    "accuracy_NB = accuracy_score(y_test, y_pred)\n",
    "\n",
    "print(\"Confusion matrix:\\n \", cm)\n",
    "print('Accuracy:', accuracy_NB)\n",
    "\n",
    "# F1_score\n",
    "NB_f1_score=f1_score(y_test, y_pred)\n",
    "\n",
    "print('f1_score:{}%'.format(NB_f1_score*100))"
   ]
  },
  {
   "cell_type": "code",
   "execution_count": 27,
   "id": "5861cae8",
   "metadata": {},
   "outputs": [
    {
     "data": {
      "text/plain": [
       "{'priors': None, 'var_smoothing': 1e-09}"
      ]
     },
     "execution_count": 27,
     "metadata": {},
     "output_type": "execute_result"
    }
   ],
   "source": [
    "NB.get_params()"
   ]
  },
  {
   "cell_type": "code",
   "execution_count": null,
   "id": "85a17ef5",
   "metadata": {},
   "outputs": [],
   "source": [
    "# Then Naive bases model shows 0.591 accuracy and 59.67 f1_score."
   ]
  },
  {
   "cell_type": "markdown",
   "id": "89572243",
   "metadata": {},
   "source": [
    "## Svm"
   ]
  },
  {
   "cell_type": "code",
   "execution_count": 28,
   "id": "ebe30715",
   "metadata": {},
   "outputs": [
    {
     "name": "stdout",
     "output_type": "stream",
     "text": [
      "Confusion matrix:\n",
      "  [[1310  316]\n",
      " [ 815  559]]\n",
      "Accuracy: 0.623\n",
      "f1_score:49.710982658959544%\n"
     ]
    }
   ],
   "source": [
    "from sklearn.svm import SVC\n",
    "\n",
    "svm = SVC( random_state = 0)\n",
    "svm.fit(X_train, y_train)\n",
    "\n",
    "# Predicting \n",
    "y_pred = svm.predict(X_test)\n",
    "\n",
    "# Confusion Matrix\n",
    "cm = confusion_matrix(y_test, y_pred)\n",
    "\n",
    "# Accuracy score\n",
    "accuracy_svm = accuracy_score(y_test, y_pred)\n",
    "\n",
    "print(\"Confusion matrix:\\n \", cm)\n",
    "print('Accuracy:', accuracy_svm)\n",
    "\n",
    "# F1 score\n",
    "svm_f1_score=f1_score(y_test, y_pred)\n",
    "\n",
    "print('f1_score:{}%'.format(svm_f1_score*100))"
   ]
  },
  {
   "cell_type": "code",
   "execution_count": 29,
   "id": "ccb65c3a",
   "metadata": {},
   "outputs": [
    {
     "data": {
      "text/plain": [
       "{'C': 1.0,\n",
       " 'break_ties': False,\n",
       " 'cache_size': 200,\n",
       " 'class_weight': None,\n",
       " 'coef0': 0.0,\n",
       " 'decision_function_shape': 'ovr',\n",
       " 'degree': 3,\n",
       " 'gamma': 'scale',\n",
       " 'kernel': 'rbf',\n",
       " 'max_iter': -1,\n",
       " 'probability': False,\n",
       " 'random_state': 0,\n",
       " 'shrinking': True,\n",
       " 'tol': 0.001,\n",
       " 'verbose': False}"
      ]
     },
     "execution_count": 29,
     "metadata": {},
     "output_type": "execute_result"
    }
   ],
   "source": [
    "svm.get_params()"
   ]
  },
  {
   "cell_type": "code",
   "execution_count": null,
   "id": "6e645f20",
   "metadata": {},
   "outputs": [],
   "source": [
    "# SVM took our much time, especially when we tried to put whole dataset for running. It shows 0.623 accuracy \n",
    "# and 49.71 f1_score."
   ]
  },
  {
   "cell_type": "markdown",
   "id": "22543ef0",
   "metadata": {},
   "source": [
    "## Decision Tree"
   ]
  },
  {
   "cell_type": "code",
   "execution_count": 30,
   "id": "2974247f",
   "metadata": {},
   "outputs": [
    {
     "name": "stdout",
     "output_type": "stream",
     "text": [
      "Confusion matrix:\n",
      "  [[1082  544]\n",
      " [ 705  669]]\n",
      "Accuracy: 0.5836666666666667\n",
      "f1_score:51.72013915732509%\n"
     ]
    }
   ],
   "source": [
    "from sklearn.tree import DecisionTreeClassifier\n",
    "\n",
    "dt = DecisionTreeClassifier(max_depth=20, criterion='entropy', min_samples_leaf=9,random_state = 0)\n",
    "dt.fit(X_train, y_train) \n",
    "\n",
    "# Predicting \n",
    "y_pred = dt.predict(X_test)\n",
    "\n",
    "# Confusion Matrix\n",
    "\n",
    "cm = confusion_matrix(y_test, y_pred)\n",
    "\n",
    "# Accuracy score\n",
    "accuracy_dt = accuracy_score(y_test, y_pred)\n",
    "\n",
    "print(\"Confusion matrix:\\n \", cm)\n",
    "print('Accuracy:', accuracy_dt)\n",
    "\n",
    "# F1 score\n",
    "dt_f1_score=f1_score(y_test, y_pred)\n",
    "\n",
    "print('f1_score:{}%'.format(dt_f1_score*100))"
   ]
  },
  {
   "cell_type": "code",
   "execution_count": 31,
   "id": "4edc7771",
   "metadata": {},
   "outputs": [
    {
     "data": {
      "text/plain": [
       "({'criterion': 'entropy', 'max_depth': 5, 'min_samples_leaf': 9}, 0.624)"
      ]
     },
     "execution_count": 31,
     "metadata": {},
     "output_type": "execute_result"
    }
   ],
   "source": [
    "from sklearn.model_selection import GridSearchCV\n",
    "\n",
    "param_grid={'max_depth':[5,10,15,20,12,30,50],'criterion':['gini','entropy'],'min_samples_leaf':[1,3,5,7,9]}\n",
    " \n",
    "grid_search.fit(X_train,y_train)\n",
    " \n",
    "grid_search.best_params_,grid_search.best_score_"
   ]
  },
  {
   "cell_type": "code",
   "execution_count": 32,
   "id": "9d2fc57c",
   "metadata": {},
   "outputs": [
    {
     "data": {
      "text/plain": [
       "{'ccp_alpha': 0.0,\n",
       " 'class_weight': None,\n",
       " 'criterion': 'entropy',\n",
       " 'max_depth': 20,\n",
       " 'max_features': None,\n",
       " 'max_leaf_nodes': None,\n",
       " 'min_impurity_decrease': 0.0,\n",
       " 'min_samples_leaf': 9,\n",
       " 'min_samples_split': 2,\n",
       " 'min_weight_fraction_leaf': 0.0,\n",
       " 'random_state': 0,\n",
       " 'splitter': 'best'}"
      ]
     },
     "execution_count": 32,
     "metadata": {},
     "output_type": "execute_result"
    }
   ],
   "source": [
    "dt.get_params()"
   ]
  },
  {
   "cell_type": "code",
   "execution_count": null,
   "id": "837d735e",
   "metadata": {},
   "outputs": [],
   "source": [
    "# Decision Tree classifier got only 37 f1_score when we set max_depth is 5, and we tried more to get \n",
    "# 51.72 f1_score and 0.58 accuracy."
   ]
  },
  {
   "cell_type": "markdown",
   "id": "d8be352d",
   "metadata": {},
   "source": [
    "## Results Comparing"
   ]
  },
  {
   "cell_type": "code",
   "execution_count": 36,
   "id": "17baa714",
   "metadata": {},
   "outputs": [
    {
     "data": {
      "text/html": [
       "<div>\n",
       "<style scoped>\n",
       "    .dataframe tbody tr th:only-of-type {\n",
       "        vertical-align: middle;\n",
       "    }\n",
       "\n",
       "    .dataframe tbody tr th {\n",
       "        vertical-align: top;\n",
       "    }\n",
       "\n",
       "    .dataframe thead th {\n",
       "        text-align: right;\n",
       "    }\n",
       "</style>\n",
       "<table border=\"1\" class=\"dataframe\">\n",
       "  <thead>\n",
       "    <tr style=\"text-align: right;\">\n",
       "      <th></th>\n",
       "      <th>Model</th>\n",
       "      <th>F1_Score</th>\n",
       "      <th>Accuracy</th>\n",
       "    </tr>\n",
       "  </thead>\n",
       "  <tbody>\n",
       "    <tr>\n",
       "      <th>0</th>\n",
       "      <td>Random Forest</td>\n",
       "      <td>0.514589</td>\n",
       "      <td>0.634000</td>\n",
       "    </tr>\n",
       "    <tr>\n",
       "      <th>4</th>\n",
       "      <td>Logistic Regression</td>\n",
       "      <td>0.521739</td>\n",
       "      <td>0.629667</td>\n",
       "    </tr>\n",
       "    <tr>\n",
       "      <th>5</th>\n",
       "      <td>SVC</td>\n",
       "      <td>0.497110</td>\n",
       "      <td>0.623000</td>\n",
       "    </tr>\n",
       "    <tr>\n",
       "      <th>1</th>\n",
       "      <td>Knn</td>\n",
       "      <td>0.497574</td>\n",
       "      <td>0.620333</td>\n",
       "    </tr>\n",
       "    <tr>\n",
       "      <th>2</th>\n",
       "      <td>Naive-bayes</td>\n",
       "      <td>0.596779</td>\n",
       "      <td>0.591000</td>\n",
       "    </tr>\n",
       "    <tr>\n",
       "      <th>3</th>\n",
       "      <td>Decision Tree</td>\n",
       "      <td>0.517201</td>\n",
       "      <td>0.583667</td>\n",
       "    </tr>\n",
       "  </tbody>\n",
       "</table>\n",
       "</div>"
      ],
      "text/plain": [
       "                 Model  F1_Score  Accuracy\n",
       "0        Random Forest  0.514589  0.634000\n",
       "4  Logistic Regression  0.521739  0.629667\n",
       "5                  SVC  0.497110  0.623000\n",
       "1                  Knn  0.497574  0.620333\n",
       "2          Naive-bayes  0.596779  0.591000\n",
       "3        Decision Tree  0.517201  0.583667"
      ]
     },
     "execution_count": 36,
     "metadata": {},
     "output_type": "execute_result"
    }
   ],
   "source": [
    "models = pd.DataFrame({\n",
    "    'Model': ['Random Forest', \n",
    "              'Knn', \n",
    "              'Naive-bayes', \n",
    "              'Decision Tree', \n",
    "              'Logistic Regression', \n",
    "              'SVC'\n",
    "                ],\n",
    "    'F1_Score': [rf_f1_score,\n",
    "              knn_f1_score,\n",
    "              NB_f1_score,\n",
    "              dt_f1_score,\n",
    "              lg_f1_score,\n",
    "              svm_f1_score\n",
    "              ],\n",
    "      'Accuracy':[accuracy_rf,\n",
    "                 accuracy_knn,\n",
    "                 accuracy_NB,\n",
    "                 accuracy_dt,\n",
    "                 accuracy_lg,\n",
    "                 accuracy_svm]})\n",
    "models.sort_values(by='Accuracy', ascending=False)"
   ]
  },
  {
   "cell_type": "code",
   "execution_count": null,
   "id": "e866c189",
   "metadata": {},
   "outputs": [],
   "source": [
    "# Here is the result of our evaluation score, we combined all at a data frame. "
   ]
  }
 ],
 "metadata": {
  "kernelspec": {
   "display_name": "Python 3 (ipykernel)",
   "language": "python",
   "name": "python3"
  },
  "language_info": {
   "codemirror_mode": {
    "name": "ipython",
    "version": 3
   },
   "file_extension": ".py",
   "mimetype": "text/x-python",
   "name": "python",
   "nbconvert_exporter": "python",
   "pygments_lexer": "ipython3",
   "version": "3.9.13"
  }
 },
 "nbformat": 4,
 "nbformat_minor": 5
}
